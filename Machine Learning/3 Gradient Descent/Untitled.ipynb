{
 "cells": [
  {
   "cell_type": "code",
   "execution_count": 1,
   "id": "0eff927f",
   "metadata": {},
   "outputs": [],
   "source": [
    "import numpy as np\n",
    "import pandas as pd\n",
    "from sklearn import linear_model"
   ]
  },
  {
   "cell_type": "code",
   "execution_count": 2,
   "id": "6b2c1df8",
   "metadata": {},
   "outputs": [
    {
     "data": {
      "text/html": [
       "<div>\n",
       "<style scoped>\n",
       "    .dataframe tbody tr th:only-of-type {\n",
       "        vertical-align: middle;\n",
       "    }\n",
       "\n",
       "    .dataframe tbody tr th {\n",
       "        vertical-align: top;\n",
       "    }\n",
       "\n",
       "    .dataframe thead th {\n",
       "        text-align: right;\n",
       "    }\n",
       "</style>\n",
       "<table border=\"1\" class=\"dataframe\">\n",
       "  <thead>\n",
       "    <tr style=\"text-align: right;\">\n",
       "      <th></th>\n",
       "      <th>name</th>\n",
       "      <th>math</th>\n",
       "      <th>c</th>\n",
       "    </tr>\n",
       "  </thead>\n",
       "  <tbody>\n",
       "    <tr>\n",
       "      <th>0</th>\n",
       "      <td>david</td>\n",
       "      <td>92</td>\n",
       "      <td>98</td>\n",
       "    </tr>\n",
       "    <tr>\n",
       "      <th>1</th>\n",
       "      <td>laura</td>\n",
       "      <td>56</td>\n",
       "      <td>68</td>\n",
       "    </tr>\n",
       "    <tr>\n",
       "      <th>2</th>\n",
       "      <td>sanjay</td>\n",
       "      <td>88</td>\n",
       "      <td>81</td>\n",
       "    </tr>\n",
       "    <tr>\n",
       "      <th>3</th>\n",
       "      <td>wei</td>\n",
       "      <td>70</td>\n",
       "      <td>80</td>\n",
       "    </tr>\n",
       "    <tr>\n",
       "      <th>4</th>\n",
       "      <td>jeff</td>\n",
       "      <td>80</td>\n",
       "      <td>83</td>\n",
       "    </tr>\n",
       "    <tr>\n",
       "      <th>5</th>\n",
       "      <td>aamir</td>\n",
       "      <td>49</td>\n",
       "      <td>52</td>\n",
       "    </tr>\n",
       "    <tr>\n",
       "      <th>6</th>\n",
       "      <td>venkat</td>\n",
       "      <td>65</td>\n",
       "      <td>66</td>\n",
       "    </tr>\n",
       "    <tr>\n",
       "      <th>7</th>\n",
       "      <td>virat</td>\n",
       "      <td>35</td>\n",
       "      <td>30</td>\n",
       "    </tr>\n",
       "    <tr>\n",
       "      <th>8</th>\n",
       "      <td>arthur</td>\n",
       "      <td>66</td>\n",
       "      <td>68</td>\n",
       "    </tr>\n",
       "    <tr>\n",
       "      <th>9</th>\n",
       "      <td>paul</td>\n",
       "      <td>67</td>\n",
       "      <td>73</td>\n",
       "    </tr>\n",
       "  </tbody>\n",
       "</table>\n",
       "</div>"
      ],
      "text/plain": [
       "     name  math   c\n",
       "0   david    92  98\n",
       "1   laura    56  68\n",
       "2  sanjay    88  81\n",
       "3     wei    70  80\n",
       "4    jeff    80  83\n",
       "5   aamir    49  52\n",
       "6  venkat    65  66\n",
       "7   virat    35  30\n",
       "8  arthur    66  68\n",
       "9    paul    67  73"
      ]
     },
     "execution_count": 2,
     "metadata": {},
     "output_type": "execute_result"
    }
   ],
   "source": [
    "df=pd.read_excel('score.xlsx')\n",
    "df"
   ]
  },
  {
   "cell_type": "code",
   "execution_count": 3,
   "id": "58206e8b",
   "metadata": {},
   "outputs": [],
   "source": [
    "def gd(x,y):\n",
    "    m_curr = b_curr = 0\n",
    "    n=len(x)\n",
    "    learning_rate=0.08\n",
    "    for i in range(100):\n",
    "        yp=m_curr*x+b_curr\n",
    "        cost=(1/n)*sum([var**2 for var in (y-yp)])\n",
    "        md=-(2/n)*sum(x*(y-yp))\n",
    "        bd=-(2/n)*sum(y-yp)\n",
    "        m_curr=m_curr-learning_rate*md\n",
    "        b_curr=b_curr-learning_rate*bd\n",
    "        print(\"m {}, b {}, cost {}, itration {}\".format(m_curr,b_curr,cost,i))\n",
    "        "
   ]
  },
  {
   "cell_type": "code",
   "execution_count": 10,
   "id": "5b44aa9a",
   "metadata": {},
   "outputs": [],
   "source": [
    "x=np.array(df.math)\n",
    "y=np.array(df.c)"
   ]
  },
  {
   "cell_type": "code",
   "execution_count": 11,
   "id": "1baebc90",
   "metadata": {},
   "outputs": [
    {
     "name": "stdout",
     "output_type": "stream",
     "text": [
      "m 791.344, b 11.184000000000001, cost 5199.1, itration 0\n",
      "m -597932.4459520001, b -8437.306111999998, cost 2957909051.2312264, itration 1\n",
      "m 452390988.68765604, b 6383625.829200897, cost 1693194866633649.8, itration 2\n",
      "m -342274866884.40906, b -4829792630.21314, cost 9.692349688813365e+20, itration 3\n",
      "m 258962021130465.47, b 3654176751462.369, cost 5.548188477384989e+26, itration 4\n",
      "m -1.9592828710504816e+17, b -2764716573371175.5, cost 3.17594766686098e+32, itration 5\n",
      "m 1.4823754278847883e+20, b 2.0917591706571228e+18, cost 1.8180066563625124e+38, itration 6\n",
      "m -1.1215516358893291e+23, b -1.5826057796199097e+21, cost 1.0406809397602957e+44, itration 7\n",
      "m 8.4855566835785e+25, b 1.1973849995836343e+24, cost 5.957166408550363e+49, itration 8\n",
      "m -6.420094262813677e+28, b -9.059304949412198e+26, cost 3.4100587666508905e+55, itration 9\n",
      "m 4.857384362675771e+31, b 6.854186931937754e+29, cost 1.9520187945937058e+61, itration 10\n",
      "m -3.6750524028017463e+34, b -5.1858148898050375e+32, cost 1.1173934630426721e+67, itration 11\n",
      "m 2.7805108994707753e+37, b 3.9235399236070706e+35, cost 6.396291647951953e+72, itration 12\n",
      "m -2.1037090127427084e+40, b -2.9685142758185342e+38, cost 3.6614270799700817e+78, itration 13\n",
      "m 1.591646920404894e+43, b 2.2459506408277197e+41, cost 2.0959094737699718e+84, itration 14\n",
      "m -1.2042254436755699e+46, b -1.6992656299904556e+44, cost 1.199760756200726e+90, itration 15\n",
      "m 9.111059121244814e+48, b 1.2856487710712573e+47, cost 6.867786467562465e+95, itration 16\n",
      "m -6.893343663080948e+51, b -9.72710053910946e+49, cost 3.931324701217591e+101, itration 17\n",
      "m 5.215440513006573e+54, b 7.359434942648065e+52, cost 2.2504068784609466e+107, itration 18\n",
      "m -3.9459543980653636e+57, b -5.568080894949602e+55, cost 1.2881996536831072e+113, itration 19\n",
      "m 2.985472861358616e+60, b 4.2127588727005036e+58, cost 7.3740369514164525e+118, itration 20\n",
      "m -2.258781350914425e+63, b -3.187334676767021e+61, cost 4.221117495675996e+124, itration 21\n",
      "m 1.7089732274159606e+66, b 2.4115081467288536e+64, cost 2.4162928704716373e+130, itration 22\n",
      "m -1.2929934501372517e+69, b -1.8245249186189264e+67, cost 1.3831577163802824e+136, itration 23\n",
      "m 9.782669706451249e+71, b 1.380418798575055e+70, cost 7.917605070816164e+141, itration 24\n",
      "m -7.401478064359901e+74, b -1.0444121864347067e+73, cost 4.532272011717456e+147, itration 25\n",
      "m 5.599890334749264e+77, b 7.90192669282181e+75, cost 2.59440694559421e+153, itration 26\n",
      "m -4.236825602742662e+80, b -5.978525171358044e+78, cost 1.485115496586634e+159, itration 27\n",
      "m 3.2055433437089737e+83, b 4.523297243067417e+81, cost 8.501241649646501e+164, itration 28\n",
      "m -2.4252846569245555e+86, b -3.422285156071976e+84, cost 4.866362902534593e+170, itration 29\n",
      "m 1.8349480997214922e+89, b 2.5892695217898647e+87, cost 2.785650482026897e+176, itration 30\n",
      "m -1.3883048816798148e+92, b -1.9590175425840277e+90, cost 1.5945889699214695e+182, itration 31\n",
      "m 1.0503787244928306e+95, b 1.4821746828036159e+93, cost 9.127900285412262e+187, itration 32\n",
      "m -7.947068971854548e+97, b -1.1213997540043824e+96, cost 5.225080894955175e+193, itration 33\n",
      "m 6.012679405126735e+100, b 8.484407559184506e+98, cost 2.9909913019599242e+199, itration 34\n",
      "m -4.5491380226939934e+103, b -6.41922484584974e+101, cost 1.7121321465161096e+205, itration 35\n",
      "m 3.4418360526381695e+106, b 4.856726569784827e+104, cost 9.800752296447631e+210, itration 36\n",
      "m -2.604061550593395e+109, b -3.674554722741057e+107, cost 5.610241345668219e+216, itration 37\n",
      "m 1.9702090557396345e+112, b 2.7801343593071186e+110, cost 3.211468569413128e+222, itration 38\n",
      "m -1.490642078884012e+115, b -2.103424125912704e+113, cost 1.8383398746814523e+228, itration 39\n",
      "m 1.1278061081215996e+118, b 1.591431377645465e+116, cost 1.0523202770941003e+234, itration 40\n",
      "m -8.532877446131456e+120, b -1.2040623660031437e+119, cost 6.023793428161866e+239, itration 41\n",
      "m 6.455896717208464e+123, b 9.109825290550875e+121, cost 3.4481980491117457e+245, itration 42\n",
      "m -4.8844721708922254e+126, b -6.892410158108345e+124, cost 1.973850851244455e+251, itration 43\n",
      "m 3.695546789747414e+129, b 5.2147342317168e+127, cost 1.1298907798993999e+257, itration 44\n",
      "m -2.7960167644312197e+132, b -3.9454200321273945e+130, cost 6.467829996865172e+262, itration 45\n",
      "m 2.1154406077793855e+135, b 2.9850685649971e+133, cost 3.7023777530137465e+268, itration 46\n",
      "m -1.6005229374768654e+138, b -2.25847546400001e+136, cost 2.11935085378789e+274, itration 47\n",
      "m 1.2109409566825924e+141, b 1.708741796185514e+139, cost 1.2131792974920625e+280, itration 48\n",
      "m -9.161868075961564e+143, b -1.2928183513935592e+142, cost 6.944598178412964e+285, itration 49\n",
      "m 6.931785251634338e+146, b 9.781344925436015e+144, cost 3.9752940030640607e+291, itration 50\n",
      "m -5.24452506589191e+149, b -7.400475747209413e+147, cost 2.2755762111507092e+297, itration 51\n",
      "m 3.9679595036911384e+152, b 5.599131990797618e+150, cost 1.302607326342089e+303, itration 52\n",
      "m -3.002121722199301e+155, b -4.236251846672819e+153, cost inf, itration 53\n",
      "m 2.271377726137812e+158, b 3.205109245135408e+156, cost inf, itration 54\n",
      "m -1.718503529235807e+161, b -2.4249562219301798e+159, cost inf, itration 55\n",
      "m 1.3002039889761339e+164, b 1.8346996088208093e+162, cost inf, itration 56\n",
      "m -9.837223981152977e+166, b -1.3881168757462824e+165, cost inf, itration 57\n",
      "m 7.442753327620155e+169, b 1.0502364809300033e+168, cost inf, itration 58\n",
      "m -5.631118819895808e+172, b -7.94599277012061e+170, cost inf, itration 59\n",
      "m 4.260452787829256e+175, b 6.011865160777739e+173, cost inf, itration 60\n",
      "m -3.2234194549739468e+178, b -4.548521972896855e+176, cost inf, itration 61\n",
      "m 2.4388095585489555e+181, b 3.441369955018922e+179, cost inf, itration 62\n",
      "m -1.8451809160895643e+184, b -2.603708905414908e+182, cost inf, itration 63\n",
      "m 1.3960469365746011e+187, b 1.9699422476359784e+185, cost inf, itration 64\n",
      "m -1.0562362921299188e+190, b -1.4904402143229195e+188, cost inf, itration 65\n",
      "m 7.991386790688628e+192, b 1.1276533792484262e+191, cost inf, itration 66\n",
      "m -6.046209859880246e+195, b -8.531721913502319e+193, cost inf, itration 67\n",
      "m 4.5745068568459293e+198, b 6.455022451832666e+196, cost inf, itration 68\n",
      "m -3.461029879592188e+201, b -4.88381070973739e+199, cost inf, itration 69\n",
      "m 2.618583423807371e+204, b 3.6950463343119505e+202, cost inf, itration 70\n",
      "m -1.9811961716570593e+207, b -2.7956381244444965e+205, cost inf, itration 71\n",
      "m 1.4989548298910064e+210, b 2.115154132242531e+208, cost inf, itration 72\n",
      "m -1.134095459196407e+213, b -1.6003061927164237e+211, cost inf, itration 73\n",
      "m 8.580462098804075e+215, b 1.2107769695872383e+214, cost inf, itration 74\n",
      "m -6.491898828444448e+218, b -9.160627364657263e+216, cost inf, itration 75\n",
      "m 4.9117110376412535e+221, b 6.930846540855114e+219, cost inf, itration 76\n",
      "m -3.716155466191636e+224, b -5.243814845936654e+222, cost inf, itration 77\n",
      "m 2.8116090997767347e+227, b 3.967422157795034e+225, cost inf, itration 78\n",
      "m -2.127237625515338e+230, b -3.0017151712288265e+228, cost inf, itration 79\n",
      "m 1.6094484527623233e+233, b 2.2710701334069613e+231, cost inf, itration 80\n",
      "m -1.2176939195833907e+236, b -1.7182708074003094e+234, cost inf, itration 81\n",
      "m 9.212960373135552e+238, b 1.3000279137725117e+237, cost inf, itration 82\n",
      "m -6.970441214488896e+241, b -9.83589181233159e+239, cost inf, itration 83\n",
      "m 5.2737718124048815e+244, b 7.441745420923376e+242, cost inf, itration 84\n",
      "m -3.990087323526137e+247, b -5.630356246944762e+245, cost inf, itration 85\n",
      "m 3.0188634274837846e+250, b 4.259875832137302e+248, cost inf, itration 86\n",
      "m -2.2840443466147725e+253, b -3.2229829355956745e+251, cost inf, itration 87\n",
      "m 1.7280869779694343e+256, b 2.4384792919959686e+254, cost inf, itration 88\n",
      "m -1.3074547382819278e+259, b -1.844931039448455e+257, cost inf, itration 89\n",
      "m 9.89208248455478e+261, b 1.395857882202588e+260, cost inf, itration 90\n",
      "m -7.484258767521117e+264, b -1.0560932553281647e+263, cost inf, itration 91\n",
      "m 5.66252145457497e+267, b 7.990304587381815e+265, cost inf, itration 92\n",
      "m -4.284211732852989e+270, b -6.045391074796326e+268, cost inf, itration 93\n",
      "m 3.241395254597389e+273, b 4.573887371570446e+271, cost inf, itration 94\n",
      "m -2.452409883469923e+276, b -3.460561182721571e+274, cost inf, itration 95\n",
      "m 1.8554707970311978e+279, b 2.618228812059168e+277, cost inf, itration 96\n",
      "m -1.4038321660017122e+282, b -1.9809278756648144e+280, cost inf, itration 97\n",
      "m 1.0621265252216863e+285, b 1.4987518396070714e+283, cost inf, itration 98\n",
      "m -8.035951753353097e+287, b -1.1339418786116686e+286, cost inf, itration 99\n"
     ]
    },
    {
     "name": "stderr",
     "output_type": "stream",
     "text": [
      "C:\\Users\\hp\\AppData\\Local\\Temp\\ipykernel_6536\\906257457.py:7: RuntimeWarning: overflow encountered in double_scalars\n",
      "  cost=(1/n)*sum([var**2 for var in (y-yp)])\n"
     ]
    }
   ],
   "source": [
    "gd(x,y)"
   ]
  },
  {
   "cell_type": "code",
   "execution_count": 9,
   "id": "82b1160d",
   "metadata": {},
   "outputs": [
    {
     "name": "stdout",
     "output_type": "stream",
     "text": [
      "[92 56 88 70 80 49 65 35 66 67]\n"
     ]
    }
   ],
   "source": [
    "print(x)"
   ]
  },
  {
   "cell_type": "code",
   "execution_count": 7,
   "id": "78467182",
   "metadata": {},
   "outputs": [
    {
     "data": {
      "text/plain": [
       "0    92\n",
       "1    56\n",
       "2    88\n",
       "3    70\n",
       "4    80\n",
       "5    49\n",
       "6    65\n",
       "7    35\n",
       "8    66\n",
       "9    67\n",
       "Name: math, dtype: int64"
      ]
     },
     "execution_count": 7,
     "metadata": {},
     "output_type": "execute_result"
    }
   ],
   "source": [
    "df.math"
   ]
  },
  {
   "cell_type": "code",
   "execution_count": 12,
   "id": "dbfa51c5",
   "metadata": {},
   "outputs": [],
   "source": [
    "reg=linear_model.LinearRegression()\n"
   ]
  },
  {
   "cell_type": "code",
   "execution_count": 17,
   "id": "a09161f1",
   "metadata": {},
   "outputs": [],
   "source": [
    "df=df.drop('name',axis='columns')"
   ]
  },
  {
   "cell_type": "code",
   "execution_count": 18,
   "id": "0a73ad80",
   "metadata": {},
   "outputs": [
    {
     "data": {
      "text/html": [
       "<style>#sk-container-id-1 {color: black;background-color: white;}#sk-container-id-1 pre{padding: 0;}#sk-container-id-1 div.sk-toggleable {background-color: white;}#sk-container-id-1 label.sk-toggleable__label {cursor: pointer;display: block;width: 100%;margin-bottom: 0;padding: 0.3em;box-sizing: border-box;text-align: center;}#sk-container-id-1 label.sk-toggleable__label-arrow:before {content: \"▸\";float: left;margin-right: 0.25em;color: #696969;}#sk-container-id-1 label.sk-toggleable__label-arrow:hover:before {color: black;}#sk-container-id-1 div.sk-estimator:hover label.sk-toggleable__label-arrow:before {color: black;}#sk-container-id-1 div.sk-toggleable__content {max-height: 0;max-width: 0;overflow: hidden;text-align: left;background-color: #f0f8ff;}#sk-container-id-1 div.sk-toggleable__content pre {margin: 0.2em;color: black;border-radius: 0.25em;background-color: #f0f8ff;}#sk-container-id-1 input.sk-toggleable__control:checked~div.sk-toggleable__content {max-height: 200px;max-width: 100%;overflow: auto;}#sk-container-id-1 input.sk-toggleable__control:checked~label.sk-toggleable__label-arrow:before {content: \"▾\";}#sk-container-id-1 div.sk-estimator input.sk-toggleable__control:checked~label.sk-toggleable__label {background-color: #d4ebff;}#sk-container-id-1 div.sk-label input.sk-toggleable__control:checked~label.sk-toggleable__label {background-color: #d4ebff;}#sk-container-id-1 input.sk-hidden--visually {border: 0;clip: rect(1px 1px 1px 1px);clip: rect(1px, 1px, 1px, 1px);height: 1px;margin: -1px;overflow: hidden;padding: 0;position: absolute;width: 1px;}#sk-container-id-1 div.sk-estimator {font-family: monospace;background-color: #f0f8ff;border: 1px dotted black;border-radius: 0.25em;box-sizing: border-box;margin-bottom: 0.5em;}#sk-container-id-1 div.sk-estimator:hover {background-color: #d4ebff;}#sk-container-id-1 div.sk-parallel-item::after {content: \"\";width: 100%;border-bottom: 1px solid gray;flex-grow: 1;}#sk-container-id-1 div.sk-label:hover label.sk-toggleable__label {background-color: #d4ebff;}#sk-container-id-1 div.sk-serial::before {content: \"\";position: absolute;border-left: 1px solid gray;box-sizing: border-box;top: 0;bottom: 0;left: 50%;z-index: 0;}#sk-container-id-1 div.sk-serial {display: flex;flex-direction: column;align-items: center;background-color: white;padding-right: 0.2em;padding-left: 0.2em;position: relative;}#sk-container-id-1 div.sk-item {position: relative;z-index: 1;}#sk-container-id-1 div.sk-parallel {display: flex;align-items: stretch;justify-content: center;background-color: white;position: relative;}#sk-container-id-1 div.sk-item::before, #sk-container-id-1 div.sk-parallel-item::before {content: \"\";position: absolute;border-left: 1px solid gray;box-sizing: border-box;top: 0;bottom: 0;left: 50%;z-index: -1;}#sk-container-id-1 div.sk-parallel-item {display: flex;flex-direction: column;z-index: 1;position: relative;background-color: white;}#sk-container-id-1 div.sk-parallel-item:first-child::after {align-self: flex-end;width: 50%;}#sk-container-id-1 div.sk-parallel-item:last-child::after {align-self: flex-start;width: 50%;}#sk-container-id-1 div.sk-parallel-item:only-child::after {width: 0;}#sk-container-id-1 div.sk-dashed-wrapped {border: 1px dashed gray;margin: 0 0.4em 0.5em 0.4em;box-sizing: border-box;padding-bottom: 0.4em;background-color: white;}#sk-container-id-1 div.sk-label label {font-family: monospace;font-weight: bold;display: inline-block;line-height: 1.2em;}#sk-container-id-1 div.sk-label-container {text-align: center;}#sk-container-id-1 div.sk-container {/* jupyter's `normalize.less` sets `[hidden] { display: none; }` but bootstrap.min.css set `[hidden] { display: none !important; }` so we also need the `!important` here to be able to override the default hidden behavior on the sphinx rendered scikit-learn.org. See: https://github.com/scikit-learn/scikit-learn/issues/21755 */display: inline-block !important;position: relative;}#sk-container-id-1 div.sk-text-repr-fallback {display: none;}</style><div id=\"sk-container-id-1\" class=\"sk-top-container\"><div class=\"sk-text-repr-fallback\"><pre>LinearRegression()</pre><b>In a Jupyter environment, please rerun this cell to show the HTML representation or trust the notebook. <br />On GitHub, the HTML representation is unable to render, please try loading this page with nbviewer.org.</b></div><div class=\"sk-container\" hidden><div class=\"sk-item\"><div class=\"sk-estimator sk-toggleable\"><input class=\"sk-toggleable__control sk-hidden--visually\" id=\"sk-estimator-id-1\" type=\"checkbox\" checked><label for=\"sk-estimator-id-1\" class=\"sk-toggleable__label sk-toggleable__label-arrow\">LinearRegression</label><div class=\"sk-toggleable__content\"><pre>LinearRegression()</pre></div></div></div></div></div>"
      ],
      "text/plain": [
       "LinearRegression()"
      ]
     },
     "execution_count": 18,
     "metadata": {},
     "output_type": "execute_result"
    }
   ],
   "source": [
    "reg.fit(df.drop('c',axis='columns'),df.c)"
   ]
  },
  {
   "cell_type": "code",
   "execution_count": 22,
   "id": "b0a99825",
   "metadata": {},
   "outputs": [
    {
     "name": "stderr",
     "output_type": "stream",
     "text": [
      "C:\\Users\\hp\\AppData\\Local\\Programs\\Python\\Python310\\lib\\site-packages\\sklearn\\base.py:450: UserWarning: X does not have valid feature names, but LinearRegression was fitted with feature names\n",
      "  warnings.warn(\n"
     ]
    },
    {
     "data": {
      "text/plain": [
       "array([81.29864586])"
      ]
     },
     "execution_count": 22,
     "metadata": {},
     "output_type": "execute_result"
    }
   ],
   "source": [
    "reg.predict([[78]])"
   ]
  },
  {
   "cell_type": "code",
   "execution_count": null,
   "id": "07d8305c",
   "metadata": {},
   "outputs": [],
   "source": []
  }
 ],
 "metadata": {
  "kernelspec": {
   "display_name": "Python 3 (ipykernel)",
   "language": "python",
   "name": "python3"
  },
  "language_info": {
   "codemirror_mode": {
    "name": "ipython",
    "version": 3
   },
   "file_extension": ".py",
   "mimetype": "text/x-python",
   "name": "python",
   "nbconvert_exporter": "python",
   "pygments_lexer": "ipython3",
   "version": "3.10.7"
  }
 },
 "nbformat": 4,
 "nbformat_minor": 5
}
